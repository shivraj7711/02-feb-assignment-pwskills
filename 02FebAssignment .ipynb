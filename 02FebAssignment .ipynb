{
 "cells": [
  {
   "cell_type": "code",
   "execution_count": 3,
   "id": "b415aa20-9a0d-43f3-8556-9e4a5deb687a",
   "metadata": {},
   "outputs": [
    {
     "name": "stdout",
     "output_type": "stream",
     "text": [
      "2\n",
      "5\n",
      "7\n",
      "9\n",
      "10\n"
     ]
    }
   ],
   "source": [
    "#Q1.  Explain with an example each when to use a for loop and a while loop.\n",
    "# Using for loop\n",
    "list = [2, 5, 7, 9, 10]\n",
    "for i in list:\n",
    "    print(i)"
   ]
  },
  {
   "cell_type": "code",
   "execution_count": 4,
   "id": "e903960a-6923-4744-92fc-60a9f54554b8",
   "metadata": {},
   "outputs": [
    {
     "name": "stdout",
     "output_type": "stream",
     "text": [
      "12\n",
      "11\n",
      "10\n",
      "9\n",
      "8\n",
      "7\n",
      "6\n",
      "5\n",
      "4\n",
      "3\n",
      "2\n",
      "1\n"
     ]
    }
   ],
   "source": [
    "#Using while loop\n",
    "a = 12\n",
    "while a> 0:\n",
    "    print(a)\n",
    "    a -= 1"
   ]
  },
  {
   "cell_type": "code",
   "execution_count": 8,
   "id": "2ba8ffca-787a-4a6c-9bae-3108472c3c44",
   "metadata": {},
   "outputs": [
    {
     "name": "stdout",
     "output_type": "stream",
     "text": [
      "sum: 55\n"
     ]
    }
   ],
   "source": [
    "#Q2.  Write a python program to print the sum and product of the first 10 natural numbers using for\n",
    "#and while loop.\n",
    "\n",
    "#Using a for loop:\n",
    "# calculate first 12 numbers using for loop\n",
    "sum = 0\n",
    "for i in range(1, 11):\n",
    "    sum += i\n",
    "print(\"sum:\", sum)"
   ]
  },
  {
   "cell_type": "code",
   "execution_count": 9,
   "id": "6e101b5b-4693-4106-a87d-a2248cf18cda",
   "metadata": {},
   "outputs": [
    {
     "name": "stdout",
     "output_type": "stream",
     "text": [
      "sum 55\n"
     ]
    }
   ],
   "source": [
    "#Using while loop\n",
    "sum = 0\n",
    "i = 1\n",
    "while i <= 10:\n",
    "    sum += i\n",
    "    i += 1\n",
    "print(\"sum\", sum)"
   ]
  },
  {
   "cell_type": "code",
   "execution_count": 34,
   "id": "e4934e3c-d4b3-48f9-8db8-94e0dec5828c",
   "metadata": {},
   "outputs": [
    {
     "name": "stdin",
     "output_type": "stream",
     "text": [
      "Enter the unites of electricity consumed: 310\n"
     ]
    },
    {
     "name": "stdout",
     "output_type": "stream",
     "text": [
      "Electricity bill: Rs. 2250.0\n"
     ]
    }
   ],
   "source": [
    "#Q3. Create a python program to compute the electricity bill for a household.\n",
    "#The per-unit charges in rupees are as follows: For the first 100 units, the user will be charged Rs. 4.5 per\n",
    "#unit, for the next 100 units, the user will be charged Rs. 6 per unit, and for the next 100 units, the user will\n",
    "#be charged Rs. 10 per unit, After 300 units and above the user will be charged Rs. 20 per unit.\n",
    "\n",
    "\n",
    "#You are required to take the units of electricity consumed in a month from the user as input.\n",
    "\n",
    "\n",
    "#Your program must pass this test case: when the unit of electricity consumed by the user in a month is\n",
    "#310, the total electricity bill should be 2250.\n",
    "\n",
    "#The units of electricity consumed from the user\n",
    "\n",
    "units = int(input(\"Enter the unites of electricity consumed:\"))\n",
    "if units <= 100:\n",
    "    bill = units * 4.5\n",
    "elif units <=200:\n",
    "    bill = 100*4.5 + (units - 100) * 6\n",
    "elif units <= 300:\n",
    "    bill = 100*4.5 + 100*6 + (units -200) * 10\n",
    "else:\n",
    "    bill = 100*4.5 + 100*6 + 100*10 + (units -300) * 20\n",
    "print(\"Electricity bill: Rs.\", bill)\n"
   ]
  },
  {
   "cell_type": "code",
   "execution_count": 36,
   "id": "7d41c95d-fd0d-4db7-9a72-8595cff0373c",
   "metadata": {},
   "outputs": [
    {
     "ename": "TypeError",
     "evalue": "'list' object is not callable",
     "output_type": "error",
     "traceback": [
      "\u001b[0;31m---------------------------------------------------------------------------\u001b[0m",
      "\u001b[0;31mTypeError\u001b[0m                                 Traceback (most recent call last)",
      "Cell \u001b[0;32mIn[36], line 2\u001b[0m\n\u001b[1;32m      1\u001b[0m \u001b[38;5;66;03m# Using for loop\u001b[39;00m\n\u001b[0;32m----> 2\u001b[0m numbers \u001b[38;5;241m=\u001b[39m \u001b[38;5;28;43mlist\u001b[39;49m\u001b[43m(\u001b[49m\u001b[38;5;28;43mrange\u001b[39;49m\u001b[43m(\u001b[49m\u001b[38;5;241;43m0\u001b[39;49m\u001b[43m,\u001b[49m\u001b[43m \u001b[49m\u001b[38;5;241;43m101\u001b[39;49m\u001b[43m)\u001b[49m\u001b[43m)\u001b[49m\n\u001b[1;32m      4\u001b[0m l \u001b[38;5;241m=\u001b[39m []\n\u001b[1;32m      5\u001b[0m \u001b[38;5;28;01mfor\u001b[39;00m i \u001b[38;5;129;01min\u001b[39;00m numbers:\n",
      "\u001b[0;31mTypeError\u001b[0m: 'list' object is not callable"
     ]
    }
   ],
   "source": [
    "#Q4. Create a list of numbers from 1 to 100. Use for loop and while loop to calculate the cube of each\n",
    "#number and if the cube of that number is divisible by 4 or 5 then append that number in a list and print\n",
    "#that list.\n",
    "\n",
    "# Using for loop\n",
    "numbers = list(range(1, 101))\n",
    "\n",
    "l = []\n",
    "for i in numbers:\n",
    "    l1 = i ** 3\n",
    "    if l1 % 4 == 0 or l1 % 5 == 0:\n",
    "        l.append(i)\n",
    "print(l)\n"
   ]
  },
  {
   "cell_type": "code",
   "execution_count": 40,
   "id": "89227a5f-4155-4c93-a872-ef0bbed9cd69",
   "metadata": {},
   "outputs": [
    {
     "ename": "TypeError",
     "evalue": "'list' object is not callable",
     "output_type": "error",
     "traceback": [
      "\u001b[0;31m---------------------------------------------------------------------------\u001b[0m",
      "\u001b[0;31mTypeError\u001b[0m                                 Traceback (most recent call last)",
      "Cell \u001b[0;32mIn[40], line 2\u001b[0m\n\u001b[1;32m      1\u001b[0m \u001b[38;5;66;03m# Using while loop\u001b[39;00m\n\u001b[0;32m----> 2\u001b[0m numbers \u001b[38;5;241m=\u001b[39m \u001b[38;5;28;43mlist\u001b[39;49m\u001b[43m(\u001b[49m\u001b[38;5;28;43mrange\u001b[39;49m\u001b[43m(\u001b[49m\u001b[38;5;241;43m1\u001b[39;49m\u001b[43m,\u001b[49m\u001b[43m \u001b[49m\u001b[38;5;241;43m101\u001b[39;49m\u001b[43m)\u001b[49m\u001b[43m)\u001b[49m\n\u001b[1;32m      4\u001b[0m l \u001b[38;5;241m=\u001b[39m []\n\u001b[1;32m      5\u001b[0m i \u001b[38;5;241m=\u001b[39m \u001b[38;5;241m0\u001b[39m\n",
      "\u001b[0;31mTypeError\u001b[0m: 'list' object is not callable"
     ]
    }
   ],
   "source": [
    "# Using while loop\n",
    "numbers = list(range(1, 101))\n",
    "\n",
    "l = []\n",
    "i = 0\n",
    "while i < len(numbers):\n",
    "    num = numbers[i]\n",
    "    l1 = num ** 3\n",
    "    if l1 % 4 == 0 or l1 % 5 == 0:\n",
    "        l.append(num)\n",
    "    i += 1\n",
    "print(cubes)\n"
   ]
  },
  {
   "cell_type": "code",
   "execution_count": 41,
   "id": "4d23337a-4966-4d11-883f-e0265c8cec45",
   "metadata": {},
   "outputs": [
    {
     "name": "stdout",
     "output_type": "stream",
     "text": [
      "The number of vowels in the string is: 12\n"
     ]
    }
   ],
   "source": [
    "# Q5. Write a program to filter count vowels in the below-given string.\n",
    "\n",
    "#string = \"I want to become a data scientist\"\n",
    "\n",
    "string = \"I want to become a data scientist\"\n",
    "\n",
    "vowels = ['a', 'e', 'i', 'o', 'u']\n",
    "\n",
    "count = 0\n",
    "\n",
    "for char in string:\n",
    "    if char.lower() in vowels:\n",
    "        count += 1\n",
    "print(\"The number of vowels in the string is:\", count)\n"
   ]
  },
  {
   "cell_type": "code",
   "execution_count": null,
   "id": "3104a35b-4f2f-45e3-96a8-775c5f35c8b9",
   "metadata": {},
   "outputs": [],
   "source": []
  }
 ],
 "metadata": {
  "kernelspec": {
   "display_name": "Python 3 (ipykernel)",
   "language": "python",
   "name": "python3"
  },
  "language_info": {
   "codemirror_mode": {
    "name": "ipython",
    "version": 3
   },
   "file_extension": ".py",
   "mimetype": "text/x-python",
   "name": "python",
   "nbconvert_exporter": "python",
   "pygments_lexer": "ipython3",
   "version": "3.10.8"
  }
 },
 "nbformat": 4,
 "nbformat_minor": 5
}
